{
 "cells": [
  {
   "cell_type": "code",
   "execution_count": null,
   "id": "fbc29dfa-32b3-4206-9daf-7a51e4be36fd",
   "metadata": {},
   "outputs": [],
   "source": []
  }
 ],
 "metadata": {
  "kernelspec": {
   "display_name": "",
   "name": ""
  },
  "language_info": {
   "name": ""
  }
 },
 "nbformat": 4,
 "nbformat_minor": 5
}
