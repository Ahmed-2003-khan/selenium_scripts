{
 "cells": [
  {
   "cell_type": "code",
   "execution_count": 8,
   "id": "dd97755e-1bec-4783-812c-87cb8aba8bad",
   "metadata": {},
   "outputs": [],
   "source": [
    "from selenium import webdriver\n",
    "import time\n",
    "from selenium.webdriver.common.by import By\n",
    "from selenium.webdriver.common.keys import Keys\n",
    "from selenium.webdriver.support.select import Select"
   ]
  },
  {
   "cell_type": "code",
   "execution_count": 11,
   "id": "bee7e906-57f1-4501-89ba-5ec559111802",
   "metadata": {},
   "outputs": [
    {
     "name": "stdout",
     "output_type": "stream",
     "text": [
      "Webpage height: 2,499 pixels\n",
      "Webpage height: 5,624 pixels\n",
      "Webpage height: 9,655 pixels\n",
      "Webpage height: 12,952 pixels\n",
      "Webpage height: 16,589 pixels\n",
      "Webpage height: 19,826 pixels\n",
      "Webpage height: 23,553 pixels\n",
      "Webpage height: 27,852 pixels\n",
      "Webpage height: 32,049 pixels\n",
      "Webpage height: 36,065 pixels\n",
      "Webpage height: 40,608 pixels\n",
      "Webpage height: 44,666 pixels\n",
      "Webpage height: 48,816 pixels\n",
      "Webpage height: 52,983 pixels\n"
     ]
    },
    {
     "ename": "InvalidSessionIdException",
     "evalue": "Message: invalid session id: session deleted as the browser has closed the connection\nfrom disconnected: not connected to DevTools\n  (Session info: chrome=137.0.7151.104)\nStacktrace:\n\tGetHandleVerifier [0x0x7ff78cf6cda5+78885]\n\tGetHandleVerifier [0x0x7ff78cf6ce00+78976]\n\t(No symbol) [0x0x7ff78cd29bca]\n\t(No symbol) [0x0x7ff78cd159b5]\n\t(No symbol) [0x0x7ff78cd3a9ca]\n\t(No symbol) [0x0x7ff78cdb05e5]\n\t(No symbol) [0x0x7ff78cdd0b42]\n\t(No symbol) [0x0x7ff78cda8963]\n\t(No symbol) [0x0x7ff78cd716b1]\n\t(No symbol) [0x0x7ff78cd72443]\n\tGetHandleVerifier [0x0x7ff78d244eed+3061101]\n\tGetHandleVerifier [0x0x7ff78d23f33d+3037629]\n\tGetHandleVerifier [0x0x7ff78d25e592+3165202]\n\tGetHandleVerifier [0x0x7ff78cf8730e+186766]\n\tGetHandleVerifier [0x0x7ff78cf8eb3f+217535]\n\tGetHandleVerifier [0x0x7ff78cf759b4+114740]\n\tGetHandleVerifier [0x0x7ff78cf75b69+115177]\n\tGetHandleVerifier [0x0x7ff78cf5c368+10728]\n\tBaseThreadInitThunk [0x0x7ff8ff557374+20]\n\tRtlUserThreadStart [0x0x7ff90057cc91+33]\n",
     "output_type": "error",
     "traceback": [
      "\u001b[1;31m---------------------------------------------------------------------------\u001b[0m",
      "\u001b[1;31mInvalidSessionIdException\u001b[0m                 Traceback (most recent call last)",
      "Cell \u001b[1;32mIn[11], line 38\u001b[0m\n\u001b[0;32m     34\u001b[0m driver\u001b[38;5;241m.\u001b[39mexecute_script(\u001b[38;5;124m\"\u001b[39m\u001b[38;5;124mwindow.scrollTo(0, document.body.scrollHeight);\u001b[39m\u001b[38;5;124m\"\u001b[39m)\n\u001b[0;32m     36\u001b[0m time\u001b[38;5;241m.\u001b[39msleep(\u001b[38;5;241m5\u001b[39m)\n\u001b[1;32m---> 38\u001b[0m new_height \u001b[38;5;241m=\u001b[39m driver\u001b[38;5;241m.\u001b[39mexecute_script(\u001b[38;5;124m\"\u001b[39m\u001b[38;5;124mreturn document.body.scrollHeight\u001b[39m\u001b[38;5;124m\"\u001b[39m)\n\u001b[0;32m     40\u001b[0m \u001b[38;5;28;01mif\u001b[39;00m prev_height \u001b[38;5;241m==\u001b[39m new_height:\n\u001b[0;32m     41\u001b[0m     \u001b[38;5;28;01mbreak\u001b[39;00m\n",
      "File \u001b[1;32m~\\anaconda3\\Lib\\site-packages\\selenium\\webdriver\\remote\\webdriver.py:544\u001b[0m, in \u001b[0;36mWebDriver.execute_script\u001b[1;34m(self, script, *args)\u001b[0m\n\u001b[0;32m    541\u001b[0m converted_args \u001b[38;5;241m=\u001b[39m \u001b[38;5;28mlist\u001b[39m(args)\n\u001b[0;32m    542\u001b[0m command \u001b[38;5;241m=\u001b[39m Command\u001b[38;5;241m.\u001b[39mW3C_EXECUTE_SCRIPT\n\u001b[1;32m--> 544\u001b[0m \u001b[38;5;28;01mreturn\u001b[39;00m \u001b[38;5;28mself\u001b[39m\u001b[38;5;241m.\u001b[39mexecute(command, {\u001b[38;5;124m\"\u001b[39m\u001b[38;5;124mscript\u001b[39m\u001b[38;5;124m\"\u001b[39m: script, \u001b[38;5;124m\"\u001b[39m\u001b[38;5;124margs\u001b[39m\u001b[38;5;124m\"\u001b[39m: converted_args})[\u001b[38;5;124m\"\u001b[39m\u001b[38;5;124mvalue\u001b[39m\u001b[38;5;124m\"\u001b[39m]\n",
      "File \u001b[1;32m~\\anaconda3\\Lib\\site-packages\\selenium\\webdriver\\remote\\webdriver.py:447\u001b[0m, in \u001b[0;36mWebDriver.execute\u001b[1;34m(self, driver_command, params)\u001b[0m\n\u001b[0;32m    445\u001b[0m response \u001b[38;5;241m=\u001b[39m \u001b[38;5;28mself\u001b[39m\u001b[38;5;241m.\u001b[39mcommand_executor\u001b[38;5;241m.\u001b[39mexecute(driver_command, params)\n\u001b[0;32m    446\u001b[0m \u001b[38;5;28;01mif\u001b[39;00m response:\n\u001b[1;32m--> 447\u001b[0m     \u001b[38;5;28mself\u001b[39m\u001b[38;5;241m.\u001b[39merror_handler\u001b[38;5;241m.\u001b[39mcheck_response(response)\n\u001b[0;32m    448\u001b[0m     response[\u001b[38;5;124m\"\u001b[39m\u001b[38;5;124mvalue\u001b[39m\u001b[38;5;124m\"\u001b[39m] \u001b[38;5;241m=\u001b[39m \u001b[38;5;28mself\u001b[39m\u001b[38;5;241m.\u001b[39m_unwrap_value(response\u001b[38;5;241m.\u001b[39mget(\u001b[38;5;124m\"\u001b[39m\u001b[38;5;124mvalue\u001b[39m\u001b[38;5;124m\"\u001b[39m, \u001b[38;5;28;01mNone\u001b[39;00m))\n\u001b[0;32m    449\u001b[0m     \u001b[38;5;28;01mreturn\u001b[39;00m response\n",
      "File \u001b[1;32m~\\anaconda3\\Lib\\site-packages\\selenium\\webdriver\\remote\\errorhandler.py:232\u001b[0m, in \u001b[0;36mErrorHandler.check_response\u001b[1;34m(self, response)\u001b[0m\n\u001b[0;32m    230\u001b[0m         alert_text \u001b[38;5;241m=\u001b[39m value[\u001b[38;5;124m\"\u001b[39m\u001b[38;5;124malert\u001b[39m\u001b[38;5;124m\"\u001b[39m]\u001b[38;5;241m.\u001b[39mget(\u001b[38;5;124m\"\u001b[39m\u001b[38;5;124mtext\u001b[39m\u001b[38;5;124m\"\u001b[39m)\n\u001b[0;32m    231\u001b[0m     \u001b[38;5;28;01mraise\u001b[39;00m exception_class(message, screen, stacktrace, alert_text)  \u001b[38;5;66;03m# type: ignore[call-arg]  # mypy is not smart enough here\u001b[39;00m\n\u001b[1;32m--> 232\u001b[0m \u001b[38;5;28;01mraise\u001b[39;00m exception_class(message, screen, stacktrace)\n",
      "\u001b[1;31mInvalidSessionIdException\u001b[0m: Message: invalid session id: session deleted as the browser has closed the connection\nfrom disconnected: not connected to DevTools\n  (Session info: chrome=137.0.7151.104)\nStacktrace:\n\tGetHandleVerifier [0x0x7ff78cf6cda5+78885]\n\tGetHandleVerifier [0x0x7ff78cf6ce00+78976]\n\t(No symbol) [0x0x7ff78cd29bca]\n\t(No symbol) [0x0x7ff78cd159b5]\n\t(No symbol) [0x0x7ff78cd3a9ca]\n\t(No symbol) [0x0x7ff78cdb05e5]\n\t(No symbol) [0x0x7ff78cdd0b42]\n\t(No symbol) [0x0x7ff78cda8963]\n\t(No symbol) [0x0x7ff78cd716b1]\n\t(No symbol) [0x0x7ff78cd72443]\n\tGetHandleVerifier [0x0x7ff78d244eed+3061101]\n\tGetHandleVerifier [0x0x7ff78d23f33d+3037629]\n\tGetHandleVerifier [0x0x7ff78d25e592+3165202]\n\tGetHandleVerifier [0x0x7ff78cf8730e+186766]\n\tGetHandleVerifier [0x0x7ff78cf8eb3f+217535]\n\tGetHandleVerifier [0x0x7ff78cf759b4+114740]\n\tGetHandleVerifier [0x0x7ff78cf75b69+115177]\n\tGetHandleVerifier [0x0x7ff78cf5c368+10728]\n\tBaseThreadInitThunk [0x0x7ff8ff557374+20]\n\tRtlUserThreadStart [0x0x7ff90057cc91+33]\n"
     ]
    }
   ],
   "source": [
    "driver = webdriver.Chrome()\n",
    "driver.maximize_window()\n",
    "\n",
    "url = \"https://pk.linkedin.com/\"\n",
    "driver.get(url)\n",
    "time.sleep(2)\n",
    "\n",
    "sign_in_xpath = '/html/body/nav/div/a[2]'\n",
    "sign_in_btn = driver.find_element(By.XPATH, value = sign_in_xpath)\n",
    "sign_in_btn.click()\n",
    "\n",
    "time.sleep(2)\n",
    "\n",
    "email_xpath = '//*[@id=\"username\"]'\n",
    "email_field = driver.find_element(By.XPATH, value = email_xpath)\n",
    "email_field.send_keys('your_email_address@gmail.com') # Your linkedin email address \n",
    "time.sleep(1)\n",
    "\n",
    "password_xpath = '//*[@id=\"password\"]'\n",
    "password_field = driver.find_element(By.XPATH, value = password_xpath)\n",
    "password_field.send_keys('your_password') # your linkedin password\n",
    "time.sleep(1)\n",
    "\n",
    "submit_sign_in_xpath = '//*[@id=\"organic-div\"]/form/div[4]/button'\n",
    "submit_sign_in_btn = driver.find_element(By.XPATH, value = submit_sign_in_xpath)\n",
    "submit_sign_in_btn.click()\n",
    "\n",
    "time.sleep(7)\n",
    "\n",
    "# scrolling\n",
    "prev_height = driver.execute_script(\"return document.body.scrollHeight\")\n",
    "while True:\n",
    "    print(f\"Webpage height: {prev_height:,} pixels\")\n",
    "    driver.execute_script(\"window.scrollTo(0, document.body.scrollHeight);\")\n",
    "\n",
    "    time.sleep(5)\n",
    "\n",
    "    new_height = driver.execute_script(\"return document.body.scrollHeight\")\n",
    "\n",
    "    if prev_height == new_height:\n",
    "        break\n",
    "\n",
    "    prev_height = new_height"
   ]
  },
  {
   "cell_type": "code",
   "execution_count": null,
   "id": "c72e3bdf-a1ee-427f-a443-66a6ecae2fe2",
   "metadata": {},
   "outputs": [],
   "source": []
  }
 ],
 "metadata": {
  "kernelspec": {
   "display_name": "web_scraping",
   "language": "python",
   "name": "web_scraping"
  },
  "language_info": {
   "codemirror_mode": {
    "name": "ipython",
    "version": 3
   },
   "file_extension": ".py",
   "mimetype": "text/x-python",
   "name": "python",
   "nbconvert_exporter": "python",
   "pygments_lexer": "ipython3",
   "version": "3.12.7"
  },
  "widgets": {
   "application/vnd.jupyter.widget-state+json": {
    "state": {},
    "version_major": 2,
    "version_minor": 0
   }
  }
 },
 "nbformat": 4,
 "nbformat_minor": 5
}
