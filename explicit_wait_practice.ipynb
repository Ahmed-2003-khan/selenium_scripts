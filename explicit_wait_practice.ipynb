{
 "cells": [
  {
   "cell_type": "code",
   "execution_count": 1,
   "id": "34e7ec5d-604b-46bc-b179-e2dd6aa06c27",
   "metadata": {},
   "outputs": [],
   "source": [
    "from selenium import webdriver\n",
    "from selenium.webdriver.common.by import By\n",
    "import time\n",
    "from selenium.webdriver.support.ui import WebDriverWait\n",
    "from selenium.webdriver.support import expected_conditions as EC\n",
    "from selenium.webdriver.common.keys import Keys"
   ]
  },
  {
   "cell_type": "code",
   "execution_count": null,
   "id": "6d4e7896-930c-4ec1-bed1-8c997c92bff5",
   "metadata": {},
   "outputs": [],
   "source": [
    "driver = webdriver.Chrome()\n",
    "time.sleep(1.5)\n",
    "driver.maximize_window()\n",
    "\n",
    "url = 'https://www.google.com/'\n",
    "driver.get(url)\n",
    "time.sleep(2)\n",
    "\n",
    "search_bar = driver.find_element(By.XPATH, \"//textarea[@id='APjFqb']\")\n",
    "search_bar.send_keys('machine learning')\n",
    "\n",
    "wait = WebDriverWait(driver, 5)\n",
    "wait.until(EC.element_to_be_clickable((By.XPATH, \"//div[@class='FPdoLc lJ9FBc']//input[@name='btnK']\")))\n",
    "\n",
    "search_bar.send_keys(Keys.ENTER)\n",
    "time.sleep(2)\n",
    "\n",
    "driver.quit()"
   ]
  }
 ],
 "metadata": {
  "kernelspec": {
   "display_name": "web_scraping",
   "language": "python",
   "name": "web_scraping"
  },
  "language_info": {
   "codemirror_mode": {
    "name": "ipython",
    "version": 3
   },
   "file_extension": ".py",
   "mimetype": "text/x-python",
   "name": "python",
   "nbconvert_exporter": "python",
   "pygments_lexer": "ipython3",
   "version": "3.12.7"
  },
  "widgets": {
   "application/vnd.jupyter.widget-state+json": {
    "state": {},
    "version_major": 2,
    "version_minor": 0
   }
  }
 },
 "nbformat": 4,
 "nbformat_minor": 5
}
