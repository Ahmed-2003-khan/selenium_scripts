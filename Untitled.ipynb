{
 "cells": [
  {
   "cell_type": "code",
   "execution_count": 1,
   "id": "bb24ca5b-c30b-4487-b420-599f10850165",
   "metadata": {},
   "outputs": [],
   "source": [
    "from selenium import webdriver\n",
    "import time\n",
    "from selenium.webdriver.common.by import By\n",
    "from selenium.webdriver.common.keys import Keys\n",
    "from selenium.webdriver.support.select import Select"
   ]
  },
  {
   "cell_type": "code",
   "execution_count": 2,
   "id": "fe46e483-6ac8-4632-82f6-6eedb9dfdd37",
   "metadata": {},
   "outputs": [
    {
     "name": "stderr",
     "output_type": "stream",
     "text": [
      "\n",
      "KeyboardInterrupt\n",
      "\n"
     ]
    }
   ],
   "source": [
    "driver = webdriver.Chrome()\n",
    "driver.maximize_window()\n",
    "\n",
    "url = \"https://www.duckduckgo.com\"\n",
    "driver.get(url)\n",
    "time.sleep(2)\n",
    "\n",
    "search_bar_xpath = '//input[@id=\"searchbox_input\"]'\n",
    "search_bar = driver.find_element(by=By.XPATH, value=search_bar_xpath)\n",
    "\n",
    "# enter input\n",
    "search_bar.send_keys(\"machine learning\")\n",
    "time.sleep(1)\n",
    "\n",
    "# # clear fields\n",
    "# search_bar.clear()\n",
    "# time.sleep(1)\n",
    "\n",
    "search_bar.send_keys(Keys.ENTER)\n",
    "time.sleep(2)\n",
    "\n",
    "link_xpath = '//*[@id=\"r1-1\"]/div[3]/h2/a/span'\n",
    "link = driver.find_element(By.XPATH, link_xpath)\n",
    "link.click()"
   ]
  },
  {
   "cell_type": "code",
   "execution_count": null,
   "id": "3864e798-5e9b-44f9-be5d-83923d9a8e1e",
   "metadata": {},
   "outputs": [],
   "source": [
    "driver = webdriver.Chrome()\n",
    "driver.maximize_window()\n",
    "\n",
    "url = \"https://github.com/login\"\n",
    "driver.get(url)\n",
    "time.sleep(2)\n",
    "\n",
    "# username field\n",
    "username_field = driver.find_element(By.ID, 'login_field')\n",
    "username_field.send_keys('ahmed')\n",
    "\n",
    "# password field\n",
    "password_field = driver.find_element(By.ID, 'password')\n",
    "password_field.send_keys('ahmed123')\n",
    "\n",
    "# submit button\n",
    "submit_button = driver.find_element(By.XPATH, '//*[@id=\"login\"]/div[4]/form/div/input[13]')\n",
    "submit_button.click()\n",
    "time.sleep(2)\n",
    "\n",
    "driver.quit()"
   ]
  },
  {
   "cell_type": "code",
   "execution_count": null,
   "id": "72faab4a-d0a0-4fa4-abb2-e6da8e08eeb7",
   "metadata": {},
   "outputs": [],
   "source": [
    "driver = webdriver.Chrome()\n",
    "time.sleep(2)\n",
    "driver.maximize_window()\n",
    "\n",
    "url = \"https://github.com/login\"\n",
    "driver.get(url)\n",
    "time.sleep(2)\n",
    "\n",
    "# username field\n",
    "username_field = driver.find_element(By.ID, 'login_field')\n",
    "username_field.send_keys('Ahmed-2004-khan')\n",
    "\n",
    "# password field\n",
    "password_field = driver.find_element(By.ID, 'password')\n",
    "password_field.send_keys('ahmed3162668821')\n",
    "\n",
    "# submit button\n",
    "submit_button = driver.find_element(By.XPATH, '//*[@id=\"login\"]/div[4]/form/div/input[13]')\n",
    "submit_button.click()\n",
    "time.sleep(2)\n",
    "\n",
    "username_field = driver.find_element(By.ID, 'login_field')\n",
    "username_field.clear()\n",
    "username_field.send_keys('Ahmed-2003-khan')\n",
    "\n",
    "# password field\n",
    "password_field = driver.find_element(By.ID, 'password')\n",
    "password_field.send_keys('ahmed3162668821')\n",
    "\n",
    "# submit button\n",
    "submit_button = driver.find_element(By.XPATH, '//*[@id=\"login\"]/div[4]/form/div/input[13]')\n",
    "submit_button.click()\n",
    "time.sleep(2)"
   ]
  },
  {
   "cell_type": "code",
   "execution_count": null,
   "id": "d3c77bcf-7d00-4656-9cc6-1b683e5bef0d",
   "metadata": {},
   "outputs": [],
   "source": [
    "from selenium import webdriver\n",
    "from selenium.webdriver.common.by import By\n",
    "import time\n",
    "\n",
    "# Setup WebDriver\n",
    "driver = webdriver.Chrome()\n",
    "driver.maximize_window()\n",
    "time.sleep(1)\n",
    "\n",
    "# Open GitHub login page\n",
    "driver.get(\"https://github.com/login\")\n",
    "time.sleep(2)\n",
    "\n",
    "def login(username, password):\n",
    "    # Find and fill username\n",
    "    username_field = driver.find_element(By.ID, 'login_field')\n",
    "    username_field.clear()\n",
    "    username_field.send_keys(username)\n",
    "\n",
    "    # Find and fill password\n",
    "    password_field = driver.find_element(By.ID, 'password')\n",
    "    password_field.clear()\n",
    "    password_field.send_keys(password)\n",
    "\n",
    "    # Click the login button\n",
    "    submit_button = driver.find_element(By.NAME, 'commit')  # safer than full XPath\n",
    "    submit_button.click()\n",
    "    time.sleep(2)\n",
    "\n",
    "# First login attempt\n",
    "login(\"Ahmed-2004-khan\", \"ahmed3162668821\")\n",
    "\n",
    "# Second login attempt with different username\n",
    "# Reopen login page\n",
    "driver.get(\"https://github.com/login\")\n",
    "time.sleep(2)\n",
    "\n",
    "login(\"Ahmed-2003-khan\", \"ahmed3162668821\")\n",
    "\n",
    "# Optional: Close browser\n",
    "driver.quit()\n"
   ]
  },
  {
   "cell_type": "markdown",
   "id": "000235df-327d-483d-b57f-174829047d41",
   "metadata": {},
   "source": [
    "# Dropdown working"
   ]
  },
  {
   "cell_type": "code",
   "execution_count": null,
   "id": "8709af19-b075-4e19-b977-ffb9c69a0e13",
   "metadata": {},
   "outputs": [],
   "source": [
    "driver = webdriver.Chrome()\n",
    "driver.maximize_window()\n",
    "time.sleep(1)\n",
    "\n",
    "url = 'https://www.miniclip.com/careers/vacancies'\n",
    "driver.get(url)\n",
    "time.sleep(2)\n",
    "\n",
    "departments_field = driver.find_element(By.XPATH, '//*[@id=\"__layout\"]/div/div/section[2]/div/fieldset[3]/select')\n",
    "departments_dropdown = Select(departments_field)\n",
    "time.sleep(2)\n",
    "\n",
    "departments_dropdown.select_by_index(5)\n",
    "\n",
    "time.sleep(2)\n",
    "\n",
    "departments_dropdown.select_by_visible_text(\"IT\")"
   ]
  },
  {
   "cell_type": "markdown",
   "id": "bcd4446a-90bb-42fe-8760-eb56494885db",
   "metadata": {},
   "source": [
    "# Mulltiselect"
   ]
  },
  {
   "cell_type": "code",
   "execution_count": null,
   "id": "e3070ebd-b8c1-4240-b449-26d1592771cd",
   "metadata": {},
   "outputs": [],
   "source": [
    "driver = webdriver.Chrome()\n",
    "driver.maximize_window()\n",
    "time.sleep(1)\n",
    "\n",
    "url = 'https://demoqa.com/select-menu'\n",
    "driver.get(url)\n",
    "time.sleep(2)\n",
    "\n",
    "cars_element = driver.find_element(By.XPATH, '//*[@id=\"cars\"]')\n",
    "cars_ms = Select(cars_element)\n",
    "time.sleep(2)\n",
    "\n",
    "cars_ms.select_by_index(1)\n",
    "time.sleep(1)\n",
    "\n",
    "cars_ms.select_by_visible_text('Opel')\n",
    "time.sleep(1)\n",
    "\n",
    "cars_ms.select_by_visible_text('Audi')\n",
    "time.sleep(1)\n",
    "\n",
    "cars_ms.deselect_by_index(2)\n",
    "time.sleep(1)\n",
    "\n",
    "cars_ms.deselect_all()\n",
    "time.sleep(3)\n",
    "\n",
    "driver.quit()"
   ]
  },
  {
   "cell_type": "markdown",
   "id": "1a7cc770-856f-478e-b510-496f5aa81b30",
   "metadata": {},
   "source": [
    "# Scrolling"
   ]
  },
  {
   "cell_type": "code",
   "execution_count": null,
   "id": "c292ae0e-0df9-4b63-9aa4-fdf1e8cb8c62",
   "metadata": {},
   "outputs": [],
   "source": [
    "driver = webdriver.Chrome()\n",
    "driver.maximize_window()\n",
    "\n",
    "url = \"https://en.wikipedia.org/wiki/Machine_learning\"\n",
    "driver.get(url)\n",
    "time.sleep(2)\n",
    "\n",
    "# scrolling by element\n",
    "# ai_xpath = '//*[@id=\"Artificial_intelligence\"]'\n",
    "# ai_subtopic = driver.find_element(By.XPATH, ai_xpath)\n",
    "# driver.execute_script(\"arguments[0].scrollIntoView();\", ai_subtopic)\n",
    "\n",
    "# scrolling vertically\n",
    "# driver.execute_script(\"window.scrollBy(0, 1000);\")\n",
    "# time.sleep(3)\n",
    "# driver.execute_script(\"window.scrollBy(0, -900);\")\n",
    "\n",
    "# scrolling by page height\n",
    "# driver.execute_script(\"window.scrollTo(0, document.body.scrollHeight);\")\n",
    "# time.sleep(2)\n",
    "# driver.execute_script(\"window.scrollTo(0, -document.body.scrollHeight);\")"
   ]
  },
  {
   "cell_type": "markdown",
   "id": "f257aece-d639-4423-8568-0c437c9d658b",
   "metadata": {},
   "source": [
    "## Infinite Scrolling"
   ]
  },
  {
   "cell_type": "code",
   "execution_count": null,
   "id": "5d31e58a-d964-41cb-8d29-4dac6e7d0399",
   "metadata": {},
   "outputs": [
    {
     "name": "stdout",
     "output_type": "stream",
     "text": [
      "Webpage height: 6,494 pixels\n",
      "Webpage height: 11,950 pixels\n",
      "Webpage height: 17,158 pixels\n",
      "Webpage height: 22,614 pixels\n",
      "Webpage height: 27,574 pixels\n",
      "Webpage height: 29,415 pixels\n",
      "Reached page end. No more data!\n"
     ]
    }
   ],
   "source": [
    "driver = webdriver.Chrome()\n",
    "driver.maximize_window()\n",
    "\n",
    "url = 'https://www.google.com/search?sca_esv=ccb8066356fd07b7&rlz=1C1VDKB_en-GBPK1081PK1081&sxsrf=AE3TifMBVzMlOmRPAu0Tl5ljdStsRbje2w:1750768018195&q=cricket&udm=2&fbs=AIIjpHxU7SXXniUZfeShr2fp4giZrjP_Cx0LI1Ytb_FGcOviEiTm5uW1q0uNfK7KsnoL8hUyUYUJLZ_b-p0lT09DIkR7XPDV-eoVxhGuk4IbCKAf9OzP14PmPO56A1-Y4g8QusElBZmOLBql4_GetqakTWzj8_sQpV-DjA_uRKW7BPYztugjCyQ_ZSVu4KNDIvYu3slDaZ-k&sa=X&ved=2ahUKEwio6LuOh4qOAxXdwAIHHT_KEXsQtKgLKAJ6BAgQEAE&biw=1163&bih=539&dpr=1.65'\n",
    "driver.get(url)\n",
    "time.sleep(2)\n",
    "\n",
    "prev_height = driver.execute_script(\"return document.body.scrollHeight\")\n",
    "while True:\n",
    "    print(f\"Webpage height: {prev_height:,} pixels\")\n",
    "    driver.execute_script(\"window.scrollTo(0, document.body.scrollHeight);\")\n",
    "\n",
    "    time.sleep(5)\n",
    "\n",
    "    new_height = driver.execute_script(\"return document.body.scrollHeight\")\n",
    "\n",
    "    if prev_height == new_height:\n",
    "        break\n",
    "\n",
    "    prev_height = new_height"
   ]
  },
  {
   "cell_type": "markdown",
   "id": "90ece2f1-c161-42bc-beae-aaeb789820c3",
   "metadata": {},
   "source": [
    "# Explicit Waits"
   ]
  },
  {
   "cell_type": "code",
   "execution_count": null,
   "id": "dd223cb7-d60f-419b-965b-af8518d787ed",
   "metadata": {},
   "outputs": [],
   "source": [
    "from selenium import webdriver\n",
    "from selenium.webdriver.common.by import By\n",
    "import time\n",
    "from selenium.webdriver.support.ui import WebDriverWait\n",
    "from selenium.webdriver.support import expected_conditions as EC\n",
    "from selenium.webdriver.common.keys import Keys"
   ]
  },
  {
   "cell_type": "code",
   "execution_count": null,
   "id": "ee2a3adb-a48f-4248-9230-06ded53b20bd",
   "metadata": {},
   "outputs": [],
   "source": [
    "driver = webdriver.Chrome()\n",
    "time.sleep(1.5)\n",
    "driver.maximize_window()\n",
    "\n",
    "url = 'https://www.google.com/'\n",
    "driver.get(url)\n",
    "time.sleep(2)\n",
    "\n",
    "search_bar = driver.find_element(By.XPATH, \"//textarea[@id='APjFqb']\")\n",
    "search_bar.send_keys('machine learning')\n",
    "\n",
    "wait = WebDriverWait(driver, 5)\n",
    "wait.until(EC.element_to_be_clickable((By.XPATH, \"//div[@class='FPdoLc lJ9FBc']//input[@name='btnK']\")))\n",
    "\n",
    "search_bar.send_keys(Keys.ENTER)\n",
    "time.sleep(2)\n",
    "\n",
    "driver.quit()"
   ]
  },
  {
   "cell_type": "markdown",
   "id": "7a2fb983-12af-47e6-a2b3-336d85738def",
   "metadata": {},
   "source": [
    "# Implicit Waits"
   ]
  },
  {
   "cell_type": "code",
   "execution_count": null,
   "id": "69fa8ac3-250a-4a65-9a42-3d82341ea02f",
   "metadata": {},
   "outputs": [],
   "source": [
    "from selenium import webdriver\n",
    "from selenium.webdriver.common.by import By\n",
    "import time\n",
    "from selenium.webdriver.common.keys import Keys"
   ]
  },
  {
   "cell_type": "code",
   "execution_count": null,
   "id": "ceeec616-6f74-4eb9-af8f-9ea82acf68dd",
   "metadata": {},
   "outputs": [],
   "source": [
    "driver = webdriver.Chrome()\n",
    "time.sleep(1.5)\n",
    "driver.maximize_window()\n",
    "\n",
    "driver.implicitly_wait(10)\n",
    "\n",
    "url = 'https://www.google.com/'\n",
    "driver.get(url)\n",
    "time.sleep(2)\n",
    "\n",
    "search_bar = driver.find_element(By.XPATH, \"//textarea[@id='APjFqb']\")\n",
    "search_bar.send_keys('machine learning')\n",
    "time.sleep(1)\n",
    "\n",
    "search_bar.send_keys(Keys.ENTER)\n",
    "time.sleep(2)\n",
    "\n",
    "driver.quit()"
   ]
  },
  {
   "cell_type": "markdown",
   "id": "933effdc-7a27-4cb8-ab66-c143abce3d18",
   "metadata": {},
   "source": [
    "# Frames and iFrames"
   ]
  },
  {
   "cell_type": "code",
   "execution_count": null,
   "id": "01c61052-a3cc-4b96-b9bd-7772447d2b67",
   "metadata": {},
   "outputs": [],
   "source": [
    "driver  = webdriver.Chrome()\n",
    "driver.maximize_window()\n",
    "\n",
    "url = 'https://www.w3schools.com/html/tryit.asp?filename=tryhtml_iframe_target'\n",
    "driver.get(url)\n",
    "time.sleep(2)\n",
    "\n",
    "iframe_element = driver.find_element(By.XPATH, '//*[@id=\"iframeResult\"]')\n",
    "driver.switch_to.frame(iframe_element)\n",
    "\n",
    "link = driver.find_element(By.XPATH, '/html/body/p[1]/a')\n",
    "link.click()\n",
    "time.sleep(2)\n",
    "\n",
    "driver.switch_to.default_content()\n",
    "driver.quit()"
   ]
  },
  {
   "cell_type": "markdown",
   "id": "c254321f-e4ba-4d29-8cd3-a09d2c1e06c7",
   "metadata": {},
   "source": [
    "# Working with alerts"
   ]
  },
  {
   "cell_type": "markdown",
   "id": "f8418adf-968e-4f67-bee5-05e31f64d90b",
   "metadata": {},
   "source": [
    "## Javascript Alerts"
   ]
  },
  {
   "cell_type": "code",
   "execution_count": null,
   "id": "81793169-6ab3-46fd-b251-e7cfaf52a414",
   "metadata": {},
   "outputs": [
    {
     "name": "stdout",
     "output_type": "stream",
     "text": [
      "Alert Text: I am an alert box!\n"
     ]
    }
   ],
   "source": [
    "driver = webdriver.Chrome()\n",
    "driver.maximize_window()\n",
    "\n",
    "url = 'https://www.w3schools.com/js/tryit.asp?filename=tryjs_alert'\n",
    "driver.get(url)\n",
    "\n",
    "iframe_element = driver.find_element(By.ID, 'iframeResult')\n",
    "driver.switch_to.frame(iframe_element)\n",
    "\n",
    "try_it_btn_xpath = '/html/body/button'\n",
    "try_it_btn = driver.find_element(By.XPATH, try_it_btn_xpath)\n",
    "try_it_btn.click()\n",
    "\n",
    "print(f\"Alert Text: {driver.switch_to.alert.text}\")\n",
    "\n",
    "driver.switch_to.alert.accept()\n",
    "\n",
    "# time.sleep(2)\n",
    "driver.switch_to.default_content()\n",
    "\n",
    "driver.quit()"
   ]
  },
  {
   "cell_type": "markdown",
   "id": "7c2c07d0-3174-45a0-bed6-96e0d07e890e",
   "metadata": {},
   "source": [
    "## Confirmation Alerts"
   ]
  },
  {
   "cell_type": "code",
   "execution_count": null,
   "id": "1752e98d-53b6-470a-adc1-36923cca21be",
   "metadata": {},
   "outputs": [],
   "source": [
    "driver = webdriver.Chrome()\n",
    "driver.maximize_window()\n",
    "\n",
    "url = 'https://www.w3schools.com/js/tryit.asp?filename=tryjs_confirm'\n",
    "driver.get(url)\n",
    "\n",
    "iframe_element = driver.find_element(By.ID, 'iframeResult')\n",
    "driver.switch_to.frame(iframe_element)\n",
    "\n",
    "try_it_btn_xpath = '/html/body/button'\n",
    "try_it_btn = driver.find_element(By.XPATH, try_it_btn_xpath)\n",
    "try_it_btn.click()\n",
    "\n",
    "driver.switch_to.alert.accept()\n",
    "time.sleep(2)\n",
    "\n",
    "try_it_btn.click()\n",
    "driver.switch_to.alert.dismiss()\n",
    "\n",
    "time.sleep(2)\n",
    "driver.switch_to.default_content()\n",
    "\n",
    "driver.quit()"
   ]
  },
  {
   "cell_type": "markdown",
   "id": "3b1d49d1-ee76-48ba-9dc9-c5173fc22765",
   "metadata": {},
   "source": [
    "## Prompt Alerts"
   ]
  },
  {
   "cell_type": "code",
   "execution_count": null,
   "id": "2a86ade5-2368-401c-814b-106efe4b9b24",
   "metadata": {},
   "outputs": [],
   "source": [
    "driver = webdriver.Chrome()\n",
    "driver.maximize_window()\n",
    "\n",
    "url = 'https://www.w3schools.com/js/tryit.asp?filename=tryjs_prompt'\n",
    "driver.get(url)\n",
    "\n",
    "iframe_element = driver.find_element(By.ID, 'iframeResult')\n",
    "driver.switch_to.frame(iframe_element)\n",
    "\n",
    "try_it_btn_xpath = '/html/body/button'\n",
    "try_it_btn = driver.find_element(By.XPATH, try_it_btn_xpath)\n",
    "try_it_btn.click()\n",
    "\n",
    "driver.switch_to.alert.send_keys(\"Bruce Wayne\")\n",
    "time.sleep(1)\n",
    "driver.switch_to.alert.accept()"
   ]
  },
  {
   "cell_type": "code",
   "execution_count": null,
   "id": "e01ca606-4f4f-42cb-87ce-3795b8b2a1dc",
   "metadata": {},
   "outputs": [],
   "source": []
  }
 ],
 "metadata": {
  "kernelspec": {
   "display_name": "web_scraping",
   "language": "python",
   "name": "python3"
  },
  "language_info": {
   "codemirror_mode": {
    "name": "ipython",
    "version": 3
   },
   "file_extension": ".py",
   "mimetype": "text/x-python",
   "name": "python",
   "nbconvert_exporter": "python",
   "pygments_lexer": "ipython3",
   "version": "3.13.5"
  },
  "widgets": {
   "application/vnd.jupyter.widget-state+json": {
    "state": {},
    "version_major": 2,
    "version_minor": 0
   }
  }
 },
 "nbformat": 4,
 "nbformat_minor": 5
}
