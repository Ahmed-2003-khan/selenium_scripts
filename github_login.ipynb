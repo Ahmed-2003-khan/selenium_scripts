{
 "cells": [
  {
   "cell_type": "code",
   "execution_count": 9,
   "id": "707da53b",
   "metadata": {},
   "outputs": [],
   "source": [
    "from selenium import webdriver\n",
    "import time\n",
    "from selenium.webdriver.common.by import By\n",
    "from selenium.webdriver.common.keys import Keys\n",
    "from selenium.webdriver.support.select import Select "
   ]
  },
  {
   "cell_type": "code",
   "execution_count": 10,
   "id": "c49bd9f2",
   "metadata": {},
   "outputs": [],
   "source": [
    "\n",
    "driver = webdriver.Chrome()\n",
    "driver.maximize_window()\n",
    "\n",
    "url = 'https://github.com/login'\n",
    "driver.get(url)\n",
    "time.sleep(2)\n",
    "\n",
    "class LoginPage:\n",
    "    def __init__(self, driver):\n",
    "        self.driver = driver\n",
    "        self.username_field = driver.find_element(By.ID, 'login_field')\n",
    "        self.password_field = driver.find_element(By.ID, 'password')\n",
    "        self.login_button = driver.find_element(By.NAME, 'commit')\n",
    "    \n",
    "    def login(self, username, password):\n",
    "        self.username_field.clear()\n",
    "        self.username_field.send_keys(username)\n",
    "        self.password_field.clear()\n",
    "        self.password_field.send_keys(password)\n",
    "        self.login_button.click()\n",
    "\n",
    "login_page = LoginPage(driver)\n",
    "login_page.login('ahmed', '123')\n",
    "\n",
    "time.sleep(5)\n",
    "driver.quit()"
   ]
  },
  {
   "cell_type": "code",
   "execution_count": null,
   "id": "ef2597f9",
   "metadata": {},
   "outputs": [],
   "source": []
  },
  {
   "cell_type": "code",
   "execution_count": null,
   "id": "7ce30a41",
   "metadata": {},
   "outputs": [],
   "source": []
  },
  {
   "cell_type": "code",
   "execution_count": null,
   "id": "990ec451",
   "metadata": {},
   "outputs": [],
   "source": []
  }
 ],
 "metadata": {
  "kernelspec": {
   "display_name": "web_scraping",
   "language": "python",
   "name": "python3"
  },
  "language_info": {
   "codemirror_mode": {
    "name": "ipython",
    "version": 3
   },
   "file_extension": ".py",
   "mimetype": "text/x-python",
   "name": "python",
   "nbconvert_exporter": "python",
   "pygments_lexer": "ipython3",
   "version": "3.13.5"
  }
 },
 "nbformat": 4,
 "nbformat_minor": 5
}
