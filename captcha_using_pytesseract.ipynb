{
 "cells": [
  {
   "cell_type": "code",
   "execution_count": 2,
   "id": "1cd3efba",
   "metadata": {},
   "outputs": [],
   "source": [
    "import cv2\n",
    "import time\n",
    "import pytesseract\n",
    "\n",
    "import numpy as np\n",
    "\n",
    "from PIL import Image\n",
    "from selenium import webdriver\n",
    "from selenium.webdriver.common.by import By"
   ]
  },
  {
   "cell_type": "code",
   "execution_count": 3,
   "id": "29a703b8",
   "metadata": {},
   "outputs": [],
   "source": [
    "pytesseract.pytesseract.tesseract_cmd = r'C:\\Program Files\\Tesseract-OCR\\tesseract.exe'"
   ]
  },
  {
   "cell_type": "code",
   "execution_count": 5,
   "id": "17fb327d",
   "metadata": {},
   "outputs": [],
   "source": [
    "driver = webdriver.Chrome()\n",
    "driver.maximize_window()\n",
    "\n",
    "url = 'https://www.hackthissite.org/user/login'\n",
    "driver.get(url)\n",
    "time.sleep(2)\n",
    "\n",
    "username_field = driver.find_element(By.ID, 'login_username')\n",
    "password_field = driver.find_element(By.ID, 'login_password')\n",
    "login_button = driver.find_element(By.XPATH, '/html/body/table/tbody/tr[2]/td/table/tbody/tr/td[2]/form/table/tbody/tr[4]/td/input')\n",
    "\n",
    "username_field.send_keys('abc')\n",
    "password_field.send_keys('123')\n",
    "login_button.click()\n",
    "time.sleep(2)\n",
    "\n",
    "try:\n",
    "    captcha_path = '/html/body/table/tbody/tr[2]/td/table/tbody/tr/td[2]/form/table/tbody/tr[5]/td/img'\n",
    "    captcha_element = driver.find_element(By.XPATH, captcha_path)\n",
    "    driver.save_screenshot('webpage.png')\n",
    "\n",
    "    # crop the captcha image from the screenshot\n",
    "    captcha_location = captcha_element.location\n",
    "    captcha_size = captcha_element.size\n",
    "    device_pixel_ratio = driver.execute_script(\"return window.devicePixelRatio;\")\n",
    "    x = int(captcha_location['x'] * device_pixel_ratio)\n",
    "    y = int(captcha_location['y'] * device_pixel_ratio)\n",
    "    w = int(captcha_size['width'] * device_pixel_ratio)\n",
    "    h = int(captcha_size['height'] * device_pixel_ratio)\n",
    "\n",
    "    img = Image.open('webpage.png')\n",
    "    captcha_img = img.crop((x, y, x + w, y + h))\n",
    "    captcha_img.save('captcha.png')\n",
    "\n",
    "except Exception as e:\n",
    "    pass\n",
    "finally:\n",
    "    time.sleep(2)\n",
    "    driver.quit()"
   ]
  },
  {
   "cell_type": "code",
   "execution_count": null,
   "id": "02bf1e7e",
   "metadata": {},
   "outputs": [],
   "source": []
  },
  {
   "cell_type": "code",
   "execution_count": null,
   "id": "da476621",
   "metadata": {},
   "outputs": [],
   "source": []
  }
 ],
 "metadata": {
  "kernelspec": {
   "display_name": "web_scraping",
   "language": "python",
   "name": "python3"
  },
  "language_info": {
   "codemirror_mode": {
    "name": "ipython",
    "version": 3
   },
   "file_extension": ".py",
   "mimetype": "text/x-python",
   "name": "python",
   "nbconvert_exporter": "python",
   "pygments_lexer": "ipython3",
   "version": "3.13.5"
  }
 },
 "nbformat": 4,
 "nbformat_minor": 5
}
