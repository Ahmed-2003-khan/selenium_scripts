{
 "cells": [
  {
   "cell_type": "code",
   "execution_count": 2,
   "id": "dc8dff71-ed76-40fa-9ed3-1dd789e8c3e2",
   "metadata": {},
   "outputs": [],
   "source": [
    "from selenium import webdriver\n",
    "import time\n",
    "from selenium.webdriver.common.by import By\n",
    "from selenium.webdriver.common.keys import Keys\n",
    "from selenium.webdriver.support.select import Select"
   ]
  },
  {
   "cell_type": "code",
   "execution_count": null,
   "id": "8eaafbe6-9262-4ac2-9ced-c20e4bb8f250",
   "metadata": {},
   "outputs": [],
   "source": [
    "driver = webdriver.Chrome()\n",
    "driver.maximize_window()\n",
    "\n",
    "url = 'https://the-internet.herokuapp.com/javascript_alerts'\n",
    "driver.get(url)\n",
    "\n",
    "xpaths = [\"//button[@onclick='jsAlert()']\", \"//button[@onclick='jsConfirm()']\", \"//button[@onclick='jsPrompt()']\"]\n",
    "\n",
    "for xpath in xpaths:\n",
    "    alert_btn = driver.find_element(By.XPATH, xpath)\n",
    "    alert_btn.click()\n",
    "    if xpath == \"//button[@onclick='jsPrompt()']\":\n",
    "        driver.switch_to.alert.send_keys(\"Ahmed\")\n",
    "        time.sleep(2)\n",
    "    driver.switch_to.alert.accept()\n",
    "    time.sleep(2)\n",
    "\n",
    "# print(f\"Alert Text: {driver.switch_to.alert.text}\")\n",
    "\n",
    "\n",
    "# driver.switch_to.alert.accept()\n",
    "\n",
    "# # time.sleep(2)\n",
    "# driver.switch_to.default_content()\n",
    "\n",
    "# driver.quit()"
   ]
  },
  {
   "cell_type": "code",
   "execution_count": null,
   "id": "aeab9580-a7f9-4fac-916b-f8c44d4f6e06",
   "metadata": {},
   "outputs": [],
   "source": []
  }
 ],
 "metadata": {
  "kernelspec": {
   "display_name": "web_scraping",
   "language": "python",
   "name": "web_scraping"
  },
  "language_info": {
   "codemirror_mode": {
    "name": "ipython",
    "version": 3
   },
   "file_extension": ".py",
   "mimetype": "text/x-python",
   "name": "python",
   "nbconvert_exporter": "python",
   "pygments_lexer": "ipython3",
   "version": "3.12.7"
  },
  "widgets": {
   "application/vnd.jupyter.widget-state+json": {
    "state": {},
    "version_major": 2,
    "version_minor": 0
   }
  }
 },
 "nbformat": 4,
 "nbformat_minor": 5
}
